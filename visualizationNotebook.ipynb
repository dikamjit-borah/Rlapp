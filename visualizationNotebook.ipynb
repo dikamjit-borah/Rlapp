{
 "cells": [
  {
   "cell_type": "code",
   "execution_count": 1,
   "metadata": {},
   "outputs": [],
   "source": [
    "import pandas as pd\n",
    "import numpy as np\n",
    "import csv\n",
    "import math\n",
    "import matplotlib.pyplot as plt\n",
    "from csv import reader"
   ]
  },
  {
   "cell_type": "code",
   "execution_count": 3,
   "metadata": {},
   "outputs": [],
   "source": [
    "dataFile = pd.read_csv('coordinates.csv')\n",
    "featureFile = pd.read_csv('distances.csv')\n",
    "distance = []\n",
    "distance = featureFile['DISTANCE']"
   ]
  },
  {
   "cell_type": "code",
   "execution_count": 4,
   "metadata": {},
   "outputs": [],
   "source": [
    "x_coor = [] \n",
    "y_coor = []\n",
    "for i in range(len(dataFile)):\n",
    "    x_coor.append(dataFile.loc[i, 'x_Coordinate'])\n",
    "for i in range(len(dataFile)):\n",
    "    y_coor.append(dataFile.loc[i, 'y_Coordinate'])"
   ]
  },
  {
   "cell_type": "code",
   "execution_count": 7,
   "metadata": {},
   "outputs": [],
   "source": [
    "from matplotlib.pyplot import figure\n",
    "def plotCoordinates():\n",
    "\n",
    "    figure(num=None, figsize=(12, 10), dpi=80, facecolor='w', edgecolor='k')\n",
    "    users = [[10, 75], [10, 10], [110, 8], [110, 65], [50, 105]] #Coordinates of users\n",
    "    users_X = [i[0] for i in users]\n",
    "    users_Y = [i[1] for i in users]\n",
    "    BS=[70, 50] #Coordinates of users\n",
    "    for i in range(len(x_coor)):\n",
    "   # plt.plot(x_coor[i], y_coor[i], data=df, linestyle='-', color='blue', marker='^')\n",
    "        plt.scatter(x_coor[i], y_coor[i], color='blue', marker='o')\n",
    "        plt.text(x_coor[i], y_coor[i], i+1, fontsize=9)\n",
    "# for i in range(len(users_X)):    \n",
    "#     plt.scatter(users_X[i], users_Y[i], color='orange', marker='o')\n",
    "# plt.scatter(BS[0], BS[1], color='red', marker='o')\n",
    "    plt.ylabel('Y-AXIS')\n",
    "    plt.xlabel('X-AXIS')\n",
    "# plt.scatter(users_X[0], users_Y[0], color='orange', marker='o')\n",
    "# plt.scatter(users_X[2], users_Y[2], color='orange', marker='o')\n",
    "    plt.show()\n",
    "\n",
    "#plt.plot( li [ : ] )\n"
   ]
  },
  {
   "cell_type": "code",
   "execution_count": null,
   "metadata": {},
   "outputs": [],
   "source": []
  },
  {
   "cell_type": "code",
   "execution_count": null,
   "metadata": {},
   "outputs": [],
   "source": []
  }
 ],
 "metadata": {
  "kernelspec": {
   "display_name": "Python 3",
   "language": "python",
   "name": "python3"
  },
  "language_info": {
   "codemirror_mode": {
    "name": "ipython",
    "version": 3
   },
   "file_extension": ".py",
   "mimetype": "text/x-python",
   "name": "python",
   "nbconvert_exporter": "python",
   "pygments_lexer": "ipython3",
   "version": "3.7.1"
  }
 },
 "nbformat": 4,
 "nbformat_minor": 2
}
